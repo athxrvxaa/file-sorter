{
 "cells": [
  {
   "cell_type": "code",
   "execution_count": 149,
   "id": "4a120188-4ced-45de-ba41-e6d6823e0ff2",
   "metadata": {},
   "outputs": [],
   "source": [
    "import os, shutil"
   ]
  },
  {
   "cell_type": "code",
   "execution_count": 151,
   "id": "c0e9fdfb-d008-4cb9-82a0-bcff9de807a1",
   "metadata": {},
   "outputs": [],
   "source": [
    "path = r\"E:\\New folder/\""
   ]
  },
  {
   "cell_type": "code",
   "execution_count": 153,
   "id": "79271dc3-30a1-4a18-ab46-28784e337103",
   "metadata": {},
   "outputs": [],
   "source": [
    "file_name = os.listdir(path)"
   ]
  },
  {
   "cell_type": "code",
   "execution_count": 155,
   "id": "f8903205-3bfa-482b-aa5b-f916faee5b5a",
   "metadata": {},
   "outputs": [
    {
     "name": "stdout",
     "output_type": "stream",
     "text": [
      "not moved kiddo try harder\n",
      "not moved kiddo try harder\n"
     ]
    }
   ],
   "source": [
    "folder_names = ['png files' , 'word files']\n",
    "\n",
    "for loop in range(0,2):\n",
    "    if not os.path.exists(path + folder_names[loop]):\n",
    "        os.makedirs(path + folder_names[loop])\n",
    "\n",
    "\n",
    "for file in file_name:\n",
    "    if \".png\" in file and not os.path.exists(path + \"png files/\" + file):\n",
    "        shutil.move(path + file , path + \"png files/\" + file)\n",
    "    elif \".docx\" in file and not os.path.exists(path + \"word files/\" + file):\n",
    "        shutil.move(path + file , path + \"word files/\" + file )\n",
    "    else:\n",
    "        print(\"not moved kiddo try harder\")"
   ]
  },
  {
   "cell_type": "code",
   "execution_count": null,
   "id": "a6bb72df-b899-4b41-92d0-63e32548f0d7",
   "metadata": {},
   "outputs": [],
   "source": []
  },
  {
   "cell_type": "code",
   "execution_count": null,
   "id": "75cac2d5-ee7e-417d-82ee-473b2f7bfe3c",
   "metadata": {},
   "outputs": [],
   "source": []
  },
  {
   "cell_type": "code",
   "execution_count": null,
   "id": "6af42ebe-fade-49b7-8fb8-6ac163c322e3",
   "metadata": {},
   "outputs": [],
   "source": []
  }
 ],
 "metadata": {
  "kernelspec": {
   "display_name": "Python 3 (ipykernel)",
   "language": "python",
   "name": "python3"
  },
  "language_info": {
   "codemirror_mode": {
    "name": "ipython",
    "version": 3
   },
   "file_extension": ".py",
   "mimetype": "text/x-python",
   "name": "python",
   "nbconvert_exporter": "python",
   "pygments_lexer": "ipython3",
   "version": "3.12.4"
  }
 },
 "nbformat": 4,
 "nbformat_minor": 5
}
